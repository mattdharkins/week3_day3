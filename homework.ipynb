{
 "cells": [
  {
   "cell_type": "markdown",
   "metadata": {},
   "source": [
    "# Object Oriented Programming 2 - examples and APIs\n"
   ]
  },
  {
   "cell_type": "markdown",
   "metadata": {},
   "source": [
    "## Tasks Today:\n",
    "\n",
    "   \n",
    "\n",
    "1) <b>Shopping Cart Example</b> <br>\n",
    "2) <b>Requests and the pokemon API </b> <br>\n",
    " "
   ]
  },
  {
   "cell_type": "markdown",
   "metadata": {},
   "source": [
    "# Goal \n",
    "### build a shopping cart program with prices and quantities using objects and a dictionary"
   ]
  },
  {
   "cell_type": "code",
   "execution_count": 1,
   "metadata": {},
   "outputs": [
    {
     "name": "stdout",
     "output_type": "stream",
     "text": [
      "\n",
      "Welcome to the Shopping Program.\n",
      "Options:\n",
      "[1] Show Current Cart\n",
      "[2] Add Item\n",
      "[3] Remove Item\n",
      "[4] Quit\n",
      "        \n",
      "What would you like to do? 2\n",
      "What do you want to get? eggs\n",
      "How many eggss do you want? (insert number) 30\n",
      "30 eggss are in the cart\n",
      "What would you like to do? 2\n",
      "What do you want to get? milk\n",
      "How many milks do you want? (insert number) 2\n",
      "2 milks are in the cart\n",
      "What would you like to do? 1\n",
      "Your cart contains the listed items\n",
      "eggs | quantity 30\n",
      "milk | quantity 2\n",
      "What would you like to do? 3\n",
      "What would you like to discard? milk\n",
      "How many would you like to discard? 1\n",
      "1 milks have been removed.\n",
      "Your cart contains the listed items\n",
      "eggs | quantity 30\n",
      "milk | quantity 1\n",
      "What would you like to do? 3\n",
      "What would you like to discard? milk\n",
      "How many would you like to discard? 1\n",
      "1 milks have been removed.\n",
      "Your cart contains the listed items\n",
      "eggs | quantity 30\n",
      "What would you like to do? 4\n",
      "Thanks for shopping!\n",
      "Your cart contains the listed items\n",
      "eggs | quantity 30\n"
     ]
    }
   ],
   "source": [
    "# Create a class called cart that retains items and has methods to add, remove, and show\n",
    "\n",
    "# this class is just responsible for the cart object and the actions of the cart object\n",
    "class Cart():\n",
    "    def __init__(self):\n",
    "        self.items = {}\n",
    "        \n",
    "    def add(self):\n",
    "        new_item = input(\"What do you want to get? \")\n",
    "        quantity = int(input(f\"How many {new_item}s do you want? (insert number) \"))\n",
    "        if new_item not in self.items.keys():\n",
    "            self.items[new_item] = quantity\n",
    "        else:\n",
    "            self.items[new_item] += quantity\n",
    "        print(f\"{quantity} {new_item}s are in the cart\")\n",
    "        \n",
    "    def remove(self):\n",
    "        discard = input(\"What would you like to discard? \")\n",
    "        quantity = int(input(\"How many would you like to discard? \"))\n",
    "        try:\n",
    "            self.items[discard] -= quantity\n",
    "            if self.items[discard] <= 0:\n",
    "                del self.items[discard]\n",
    "            print(f\"{quantity} {discard}s have been removed.\")\n",
    "        except:\n",
    "            print(f\"{discard} was not in your cart.\")\n",
    "        self.show()\n",
    "        \n",
    "    def show(self):\n",
    "        print(f\"Your cart contains the listed items\")\n",
    "        for item, quantity in self.items.items():\n",
    "            print(f\"{item} | quantity {quantity}\")\n",
    "            \n",
    "    def checkout(self):\n",
    "        if not self.items:\n",
    "            print(\"buy something next time...please\")\n",
    "        else:\n",
    "            print(\"Thanks for shopping!\")\n",
    "            self.show()\n",
    "            \n",
    "            \n",
    "            \n",
    "    \n",
    "# control the logic and flow/operation of our overall program\n",
    "class Main:\n",
    "    def showInstructions():\n",
    "        print(\"\"\"\n",
    "Welcome to the Shopping Program.\n",
    "Options:\n",
    "[1] Show Current Cart\n",
    "[2] Add Item\n",
    "[3] Remove Item\n",
    "[4] Quit\n",
    "        \"\"\")\n",
    "    \n",
    "    # driver code - responsible for actually calling all of my functions\n",
    "    def run():\n",
    "        Main.showInstructions()\n",
    "        my_cart = Cart()\n",
    "        \n",
    "        while True:\n",
    "            choice = input(\"What would you like to do? \")\n",
    "            if choice == '1':\n",
    "                if my_cart.items == {}:\n",
    "                    print(\"Your cart is empty...start shopping\")\n",
    "                else:\n",
    "                    my_cart.show()\n",
    "            elif choice == '2':\n",
    "                my_cart.add()\n",
    "            elif choice == '3':\n",
    "                if my_cart.items == {}:\n",
    "                    print(\"your cart is empty...add something before you remove it\")\n",
    "                else:\n",
    "                    my_cart.remove()\n",
    "            elif choice == '4':\n",
    "                my_cart.checkout()\n",
    "                break\n",
    "            else:\n",
    "                print(\"invalid input...please try again.\")\n",
    "                \n",
    "Main.run()\n",
    "            \n",
    "        "
   ]
  },
  {
   "cell_type": "markdown",
   "metadata": {},
   "source": [
    "# working with APIs"
   ]
  },
  {
   "cell_type": "markdown",
   "metadata": {},
   "source": [
    "<p> What exactly is an API? <br> <br>\n",
    "API is the acronym for Application Programming Interface, which is a software intermediary that allows two applications to talk to each other. Each time you use an app like Facebook, send an instant message, or check the weather on your phone, you're using an API. </p>"
   ]
  },
  {
   "cell_type": "markdown",
   "metadata": {},
   "source": [
    "### The Poke API  allows you to retreive a pokemon's information from PokeAPI https://pokeapi.co/\n",
    "\n"
   ]
  },
  {
   "cell_type": "code",
   "execution_count": 6,
   "metadata": {},
   "outputs": [
    {
     "name": "stdout",
     "output_type": "stream",
     "text": [
      "dict_keys(['abilities', 'base_experience', 'forms', 'game_indices', 'height', 'held_items', 'id', 'is_default', 'location_area_encounters', 'moves', 'name', 'order', 'past_types', 'species', 'sprites', 'stats', 'types', 'weight'])\n"
     ]
    }
   ],
   "source": [
    "# making an API call\n",
    "import requests\n",
    "\n",
    "r = requests.get(\"https://pokeapi.co/api/v2/pokemon/pikachu\")\n",
    "if r.status_code == 200:\n",
    "    data = r.json()\n",
    "    \n",
    "print(data.keys())\n",
    "\n",
    "\n"
   ]
  },
  {
   "cell_type": "code",
   "execution_count": 30,
   "metadata": {},
   "outputs": [
    {
     "name": "stdout",
     "output_type": "stream",
     "text": [
      "dict_keys(['accuracy', 'contest_combos', 'contest_effect', 'contest_type', 'damage_class', 'effect_chance', 'effect_changes', 'effect_entries', 'flavor_text_entries', 'generation', 'id', 'learned_by_pokemon', 'machines', 'meta', 'name', 'names', 'past_values', 'power', 'pp', 'priority', 'stat_changes', 'super_contest_effect', 'target', 'type'])\n"
     ]
    }
   ],
   "source": [
    "import requests\n",
    "\n",
    "r = requests.get(\"https://pokeapi.co/api/v2/move/double-slap\")\n",
    "if r.status_code == 200:\n",
    "    data = r.json()\n",
    "    \n",
    "print(data.keys())"
   ]
  },
  {
   "cell_type": "markdown",
   "metadata": {},
   "source": [
    "### Display a Pokemon's name, abilities, types, and weight"
   ]
  },
  {
   "cell_type": "code",
   "execution_count": 31,
   "metadata": {},
   "outputs": [
    {
     "name": "stdout",
     "output_type": "stream",
     "text": [
      "double-slap\n"
     ]
    }
   ],
   "source": [
    "name = data['name']\n",
    "print(name)"
   ]
  },
  {
   "cell_type": "code",
   "execution_count": 36,
   "metadata": {},
   "outputs": [
    {
     "name": "stdout",
     "output_type": "stream",
     "text": [
      "85\n"
     ]
    }
   ],
   "source": [
    "accuracy = data['accuracy']\n",
    "print(accuracy)"
   ]
  },
  {
   "cell_type": "code",
   "execution_count": 40,
   "metadata": {},
   "outputs": [
    {
     "name": "stdout",
     "output_type": "stream",
     "text": [
      "['Inflicts regular damage.  Hits 2–5 times in one turn.\\n\\nHas a 3/8 chance each to hit 2 or 3 times, and a 1/8 chance each to hit 4 or 5 times.  Averages to 3 hits per use.']\n"
     ]
    }
   ],
   "source": [
    "effect_entries = [move['effect'] for move in data['effect_entries']]\n",
    "print(effect_entries)"
   ]
  },
  {
   "cell_type": "code",
   "execution_count": 7,
   "metadata": {},
   "outputs": [
    {
     "name": "stdout",
     "output_type": "stream",
     "text": [
      "pikachu\n"
     ]
    }
   ],
   "source": [
    "# name, abilities, types, and weight\n",
    "# get the name\n",
    "\n",
    "name = data['name']\n",
    "print(name)"
   ]
  },
  {
   "cell_type": "code",
   "execution_count": 15,
   "metadata": {},
   "outputs": [
    {
     "name": "stdout",
     "output_type": "stream",
     "text": [
      "['static', 'lightning-rod']\n"
     ]
    }
   ],
   "source": [
    "abilities = [pokemon['ability']['name'] for pokemon in data['abilities']]\n",
    "print(abilities)"
   ]
  },
  {
   "cell_type": "code",
   "execution_count": 16,
   "metadata": {},
   "outputs": [
    {
     "name": "stdout",
     "output_type": "stream",
     "text": [
      "['electric']\n"
     ]
    }
   ],
   "source": [
    "types = [pokemon['type']['name'] for pokemon in data['types']]\n",
    "print(types)"
   ]
  },
  {
   "cell_type": "code",
   "execution_count": 11,
   "metadata": {},
   "outputs": [
    {
     "name": "stdout",
     "output_type": "stream",
     "text": [
      "60\n"
     ]
    }
   ],
   "source": [
    "weight = data['weight']\n",
    "print(weight)"
   ]
  },
  {
   "cell_type": "code",
   "execution_count": 10,
   "metadata": {},
   "outputs": [],
   "source": [
    "# Create a structure for a single pokemon\n",
    "pokemon_x = {\n",
    "    \n",
    "'name': '',\n",
    "'abilities': [],\n",
    "'weight': '',\n",
    "'types': []\n",
    "}\n"
   ]
  },
  {
   "cell_type": "code",
   "execution_count": 18,
   "metadata": {},
   "outputs": [
    {
     "data": {
      "text/plain": [
       "{'name': 'pikachu',\n",
       " 'abilities': ['static', 'lightning-rod'],\n",
       " 'weight': 60,\n",
       " 'types': ['electric']}"
      ]
     },
     "execution_count": 18,
     "metadata": {},
     "output_type": "execute_result"
    }
   ],
   "source": [
    "pikachu = {\n",
    "    \"name\": name,\n",
    "    \"abilities\": abilities,\n",
    "    \"weight\": weight,\n",
    "    \"types\": types\n",
    "}\n",
    "pikachu"
   ]
  },
  {
   "cell_type": "markdown",
   "metadata": {},
   "source": [
    "#### Create a function to Pull in your own Pokemon's data "
   ]
  },
  {
   "cell_type": "code",
   "execution_count": 21,
   "metadata": {},
   "outputs": [],
   "source": [
    "import requests as r\n",
    "the_team = ['electabuzz', 'haunter','tyranitar','magikarp','marowak','dratini']\n",
    "\n",
    "def poke_api_call(pokemon):\n",
    "    req = requests.get(f'https://pokeapi.co/api/v2/pokemon/{pokemon}')\n",
    "    if req.status_code == 200:\n",
    "        data = req.json()\n",
    "    \n",
    "        name = data['name']\n",
    "        types = [pokemon['type']['name'] for pokemon in data['types']]\n",
    "        abilities = [pokemon['ability']['name'] for pokemon in data['abilities']]\n",
    "        weight = data['weight']\n",
    "    \n",
    "        poke = {\n",
    "            \"name\": name,\n",
    "            'abilities': abilities,\n",
    "            'weight': weight,\n",
    "            'types' : types\n",
    "        }\n",
    "        return poke\n",
    "\n"
   ]
  },
  {
   "cell_type": "markdown",
   "metadata": {},
   "source": [
    "#### Use your function to create a dictionary of your Johto League 6  (favorite 6 pokemon)"
   ]
  },
  {
   "cell_type": "code",
   "execution_count": 23,
   "metadata": {},
   "outputs": [
    {
     "data": {
      "text/plain": [
       "{'Electabuzz': {'name': 'electabuzz',\n",
       "  'abilities': ['static', 'vital-spirit'],\n",
       "  'weight': 300,\n",
       "  'types': ['electric']},\n",
       " 'Haunter': {'name': 'haunter',\n",
       "  'abilities': ['levitate'],\n",
       "  'weight': 1,\n",
       "  'types': ['ghost', 'poison']},\n",
       " 'Tyranitar': {'name': 'tyranitar',\n",
       "  'abilities': ['sand-stream', 'unnerve'],\n",
       "  'weight': 2020,\n",
       "  'types': ['rock', 'dark']},\n",
       " 'Magikarp': {'name': 'magikarp',\n",
       "  'abilities': ['swift-swim', 'rattled'],\n",
       "  'weight': 100,\n",
       "  'types': ['water']},\n",
       " 'Marowak': {'name': 'marowak',\n",
       "  'abilities': ['rock-head', 'lightning-rod', 'battle-armor'],\n",
       "  'weight': 450,\n",
       "  'types': ['ground']},\n",
       " 'Dratini': {'name': 'dratini',\n",
       "  'abilities': ['shed-skin', 'marvel-scale'],\n",
       "  'weight': 33,\n",
       "  'types': ['dragon']}}"
      ]
     },
     "execution_count": 23,
     "metadata": {},
     "output_type": "execute_result"
    }
   ],
   "source": [
    "# Place all 6 of your pokemon on the object below, each pokemon should have at least as much info as Pikachu did.\n",
    "\n",
    "my_six_pokemon = {}\n",
    "for member in the_team:\n",
    "    poke_stats = poke_api_call(member)\n",
    "    my_six_pokemon[member.title()] = poke_stats\n",
    "\n",
    "my_six_pokemon"
   ]
  },
  {
   "cell_type": "markdown",
   "metadata": {},
   "source": [
    "## Lets create a class called 'Pokemon' and create our pokemon as instances"
   ]
  },
  {
   "cell_type": "code",
   "execution_count": 50,
   "metadata": {},
   "outputs": [
    {
     "name": "stdout",
     "output_type": "stream",
     "text": [
      "pikachu's data has been updated! \n",
      "<__main__.Pokemon object at 0x00000212B12B2880>\n",
      "{'name': 'pikachu', 'types': ['electric'], 'abilities': ['static', 'lightning-rod'], 'weight': 60}\n"
     ]
    }
   ],
   "source": [
    "\n",
    "class Pokemon:\n",
    "    def __init__(self,name):\n",
    "        self.name = name\n",
    "        self.types = []\n",
    "        self.abilities = []\n",
    "        self.weight = None\n",
    "        \n",
    "    def poke_api_call(self):\n",
    "        r = requests.get(f\"https://pokeapi.co/api/v2/pokemon/{self.name}\")\n",
    "        if r.status_code == 200:\n",
    "            data = r.json()\n",
    "        else:\n",
    "            print(f\"Ran into an issue {r.status_code}\")\n",
    "            return\n",
    "        \n",
    "        self.types = [pokemon['type']['name'] for pokemon in data['types']]\n",
    "        self.abilities = [pokemon['ability']['name'] for pokemon in data['abilities']]\n",
    "        self.weight = data['weight']\n",
    "        print(f'{self.name}\\'s data has been updated! ')\n",
    "        \n",
    "pikachu = Pokemon('pikachu')\n",
    "pikachu.poke_api_call()\n",
    "print(pikachu)\n",
    "print(pikachu.__dict__)\n"
   ]
  },
  {
   "cell_type": "code",
   "execution_count": 51,
   "metadata": {},
   "outputs": [
    {
     "name": "stdout",
     "output_type": "stream",
     "text": [
      "lugia's data has been updated! \n",
      "pikachu's data has been updated! \n",
      "charmander's data has been updated! \n",
      "bulbasaur's data has been updated! \n",
      "squirtle's data has been updated! \n",
      "hitmonlee's data has been updated! \n"
     ]
    },
    {
     "data": {
      "text/plain": [
       "{'lugia': <__main__.Pokemon at 0x212b1252af0>,\n",
       " 'pikachu': <__main__.Pokemon at 0x212ae53c220>,\n",
       " 'charmander': <__main__.Pokemon at 0x212b1252070>,\n",
       " 'bulbasaur': <__main__.Pokemon at 0x212ae810bb0>,\n",
       " 'squirtle': <__main__.Pokemon at 0x212b12529a0>,\n",
       " 'hitmonlee': <__main__.Pokemon at 0x212b1252760>}"
      ]
     },
     "execution_count": 51,
     "metadata": {},
     "output_type": "execute_result"
    }
   ],
   "source": [
    "pokemon = ['lugia', 'pikachu', 'charmander', 'bulbasaur', 'squirtle', 'hitmonlee']\n",
    "\n",
    "# dictionary of structure {name: object,}\n",
    "\n",
    "poke_dict = {}\n",
    "\n",
    "for name in pokemon:\n",
    "    new = Pokemon(name)\n",
    "    new.poke_api_call()\n",
    "    poke_dict[name] = new\n",
    "    \n",
    "poke_dict\n"
   ]
  },
  {
   "cell_type": "markdown",
   "metadata": {},
   "source": [
    "### Where to go next? What to do with your Pokemon object? <br><br>\n",
    "## \"What to do now?\"<br>\n",
    "\n",
    "# Shopping cart style program?\n",
    "### User builds a team of pokemon\n",
    "    \n",
    "<p> we could turn our pokemon object that utilizes API calls into a shopping cart style program where we ask our user for input to choose pokemon to create </p> <br> <br>\n",
    "    \n",
    "# Check out what other endpoints the PokeAPI has to offer\n",
    "  I figured out that they have a region endpoint\n",
    " the region endpoint has a pokedex endpoint within it\n",
    " I can build a list of pokemon names from that pokedex endpoint\n",
    " I can use that list of pokemon names in my repeatable pokemon object creation and wind up with a massive list of pokemon\n",
    "<br><br>\n",
    "(note that the API will be a bit slower when you have hundreds of calls to make)\n",
    "        \n",
    "# Turn toward more user searching our pokemon lists - build functions for different types of search\n",
    " user can press 1 to search by name\n",
    " user can press 2 to search by type\n",
    " (have a function that loops through pokemon and figures out if they have the right type)"
   ]
  },
  {
   "cell_type": "code",
   "execution_count": null,
   "metadata": {},
   "outputs": [],
   "source": [
    "class Move_Tutor(Pokemon):\n",
    "    def __init__(self, name):\n",
    "        self.name = name\n",
    "        self.accuracy = accuracy\n",
    "        self.effect_entries = effect_entries\n",
    "    \n",
    "    def move_api_call(self):\n",
    "        r = requests.get(f\"https://pokeapi.co/api/v2/move/{name}\")\n",
    "        if r.status_code == 200:\n",
    "            data = r.json()\n",
    "        else:\n",
    "            print(f\"Ran into an issue {r.status_code}\")\n",
    "            return\n",
    "        \n",
    "        self.accuracy = data['accuracy']\n",
    "        self.effect_entries = [move['effect'] for move in data['effect_entries']]\n",
    "        print(f\"Here's the move: {name}\")\n",
    "        \n",
    "    # def teach_move:\n",
    "        \n",
    "     \n"
   ]
  },
  {
   "cell_type": "code",
   "execution_count": null,
   "metadata": {},
   "outputs": [],
   "source": [
    "move = ['double-slap', 'headbutt', 'feint-attack']\n",
    "\n",
    "move_dict = {}\n",
    "\n",
    "for name in move:\n",
    "    additional_move = Move_Tutor(name)\n",
    "    additional_move.move_api_call()\n",
    "    move_dict[name] = additional_move\n",
    "    \n",
    "move_dict\n",
    "\n",
    "print(double_slap.__dict__)\n",
    "print(headbutt.__dict__)"
   ]
  },
  {
   "cell_type": "code",
   "execution_count": null,
   "metadata": {},
   "outputs": [],
   "source": []
  }
 ],
 "metadata": {
  "kernelspec": {
   "display_name": "Python 3 (ipykernel)",
   "language": "python",
   "name": "python3"
  },
  "language_info": {
   "codemirror_mode": {
    "name": "ipython",
    "version": 3
   },
   "file_extension": ".py",
   "mimetype": "text/x-python",
   "name": "python",
   "nbconvert_exporter": "python",
   "pygments_lexer": "ipython3",
   "version": "3.9.7"
  }
 },
 "nbformat": 4,
 "nbformat_minor": 4
}
